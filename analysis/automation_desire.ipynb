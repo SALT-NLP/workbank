{
 "cells": [
  {
   "cell_type": "code",
   "execution_count": 1,
   "id": "41b7f0ee69089e73",
   "metadata": {
    "ExecuteTime": {
     "end_time": "2025-06-02T15:59:25.257262Z",
     "start_time": "2025-06-02T15:59:25.091355Z"
    }
   },
   "outputs": [],
   "source": [
    "import pandas as pd\n",
    "from datasets import load_dataset\n",
    "\n",
    "domain_worker_desires = load_dataset(\"SALT-NLP/WORKBank\", data_files=\"worker_data/domain_worker_desires.csv\")[\"train\"].to_pandas()\n",
    "\n",
    "task_summary = (\n",
    "    domain_worker_desires\n",
    "    .groupby(\"Task\")\n",
    "    .agg({\n",
    "        \"Automation Desire Rating\": \"mean\",\n",
    "        \"Job Security Rating\":    \"mean\",\n",
    "        \"Enjoyment Rating\":       \"mean\",\n",
    "    })\n",
    "    .reset_index()\n",
    ")\n",
    "\n",
    "task_to_occ = (\n",
    "    domain_worker_desires[[\"Task\", \"Occupation (O*NET-SOC Title)\"]]\n",
    "    .drop_duplicates(subset=\"Task\")\n",
    ")\n",
    "\n",
    "task_stats = (\n",
    "    task_summary\n",
    "    .merge(task_to_occ, on=\"Task\", how=\"left\")\n",
    "    .sort_values(\"Automation Desire Rating\", ascending=False)\n",
    ")"
   ]
  },
  {
   "cell_type": "markdown",
   "id": "6535f9c573b26a36",
   "metadata": {},
   "source": [
    "## Basic Info"
   ]
  },
  {
   "cell_type": "code",
   "execution_count": 2,
   "id": "94c7e95e563f7ce7",
   "metadata": {
    "ExecuteTime": {
     "end_time": "2025-06-02T15:59:29.307269Z",
     "start_time": "2025-06-02T15:59:29.299263Z"
    }
   },
   "outputs": [
    {
     "name": "stdout",
     "output_type": "stream",
     "text": [
      "Top 3 Automation Desire Tasks:\n",
      "Task: Schedule appointments with clients.\n",
      "Automation Desire Rating: 5.0\n",
      "Task: Maintain files of information relating to emergency calls, such as personnel rosters and emergency call-out and pager files.\n",
      "Automation Desire Rating: 4.666666666666667\n",
      "Task: Issue and record adjustments to pay related to previous errors or retroactive increases.\n",
      "Automation Desire Rating: 4.6\n",
      "\n",
      "Bottom 3 Automation Desire Tasks:\n",
      "Task: Write text, such as stories, articles, editorials, or newsletters.\n",
      "Automation Desire Rating: 1.6\n",
      "Task: Contact potential vendors to determine material availability.\n",
      "Automation Desire Rating: 1.5\n",
      "Task: Trace lost, delayed, or misdirected baggage for customers.\n",
      "Automation Desire Rating: 1.5\n"
     ]
    }
   ],
   "source": [
    "# Print top-3-automation-desire tasks and bottom-3-automation-desire tasks\n",
    "print(\"Top 3 Automation Desire Tasks:\")\n",
    "for i, row in task_stats.head(3).iterrows():\n",
    "    print(f\"Task: {row['Task']}\")\n",
    "    print(f\"Automation Desire Rating: {row['Automation Desire Rating']}\")\n",
    "print(\"\\nBottom 3 Automation Desire Tasks:\")\n",
    "for i, row in task_stats.tail(3).iterrows():\n",
    "    print(f\"Task: {row['Task']}\")\n",
    "    print(f\"Automation Desire Rating: {row['Automation Desire Rating']}\")"
   ]
  },
  {
   "cell_type": "code",
   "execution_count": 3,
   "id": "3a223d7b49eeb35e",
   "metadata": {
    "ExecuteTime": {
     "end_time": "2025-06-02T15:59:30.024672Z",
     "start_time": "2025-06-02T15:59:30.013214Z"
    }
   },
   "outputs": [
    {
     "name": "stdout",
     "output_type": "stream",
     "text": [
      "Top 20 Automation Desire Tasks:\n",
      "Tax Preparers: Schedule appointments with clients.\n",
      "Automation Desire Rating: 5.0\n",
      "-----------------------\n",
      "Public Safety Telecommunicators: Maintain files of information relating to emergency calls, such as personnel rosters and emergency call-out and pager files.\n",
      "Automation Desire Rating: 4.666666666666667\n",
      "-----------------------\n",
      "Payroll and Timekeeping Clerks: Issue and record adjustments to pay related to previous errors or retroactive increases.\n",
      "Automation Desire Rating: 4.6\n",
      "-----------------------\n",
      "Desktop Publishers: Convert various types of files for printing or for the Internet, using computer software.\n",
      "Automation Desire Rating: 4.5\n",
      "-----------------------\n",
      "Online Merchants: Create or maintain database of customer accounts.\n",
      "Automation Desire Rating: 4.5\n",
      "-----------------------\n",
      "Quality Control Systems Managers: Direct the tracking of defects, test results, or other regularly reported quality control data.\n",
      "Automation Desire Rating: 4.5\n",
      "-----------------------\n",
      "Statisticians: Report results of statistical analyses, including information in the form of graphs, charts, and tables.\n",
      "Automation Desire Rating: 4.5\n",
      "-----------------------\n",
      "Computer User Support Specialists: Maintain records of daily data communication transactions, problems and remedial actions taken, or installation activities.\n",
      "Automation Desire Rating: 4.5\n",
      "-----------------------\n",
      "Online Merchants: Calculate revenue, sales, and expenses, using financial accounting or spreadsheet software.\n",
      "Automation Desire Rating: 4.4\n",
      "-----------------------\n",
      "Data Entry Keyers: Store completed documents in appropriate locations.\n",
      "Automation Desire Rating: 4.333333333333333\n",
      "-----------------------\n",
      "Petroleum Engineers: Maintain records of drilling and production operations.\n",
      "Automation Desire Rating: 4.333333333333333\n",
      "-----------------------\n",
      "Logistics Analysts: Apply analytic methods or tools to understand, predict, or control logistics operations or processes.\n",
      "Automation Desire Rating: 4.333333333333333\n",
      "-----------------------\n",
      "Court, Municipal, and License Clerks: Instruct parties about timing of court appearances.\n",
      "Automation Desire Rating: 4.333333333333333\n",
      "-----------------------\n",
      "Data Entry Keyers: Maintain logs of activities and completed work.\n",
      "Automation Desire Rating: 4.25\n",
      "-----------------------\n",
      "Compliance Officers: Prepare correspondence to inform concerned parties of licensing decisions or appeals processes.\n",
      "Automation Desire Rating: 4.25\n",
      "-----------------------\n",
      "Web Developers: Back up files from Web sites to local directories for instant recovery in case of problems.\n",
      "Automation Desire Rating: 4.2\n",
      "-----------------------\n",
      "Web Administrators: Back up or modify applications and related data to provide for disaster recovery.\n",
      "Automation Desire Rating: 4.2\n",
      "-----------------------\n",
      "Bioinformatics Scientists: Manipulate publicly accessible, commercial, or proprietary genomic, proteomic, or post-genomic databases.\n",
      "Automation Desire Rating: 4.166666666666667\n",
      "-----------------------\n",
      "Network and Computer Systems Administrators: Perform routine network startup and shutdown procedures, and maintain control records.\n",
      "Automation Desire Rating: 4.166666666666667\n",
      "-----------------------\n",
      "Computer and Information Research Scientists: Approve, prepare, monitor, and adjust operational budgets.\n",
      "Automation Desire Rating: 4.166666666666667\n",
      "-----------------------\n"
     ]
    }
   ],
   "source": [
    "# Print top-20 tasks with highest automation desire\n",
    "print(\"Top 20 Automation Desire Tasks:\")\n",
    "for i, row in task_stats.head(20).iterrows():\n",
    "    print(f\"{row['Occupation (O*NET-SOC Title)']}: {row['Task']}\")\n",
    "    print(f\"Automation Desire Rating: {row['Automation Desire Rating']}\")\n",
    "    print(\"-----------------------\")"
   ]
  },
  {
   "cell_type": "code",
   "execution_count": 4,
   "id": "e453b6c7a27df628",
   "metadata": {
    "ExecuteTime": {
     "end_time": "2025-06-02T15:59:32.619519Z",
     "start_time": "2025-06-02T15:59:32.615027Z"
    }
   },
   "outputs": [
    {
     "name": "stdout",
     "output_type": "stream",
     "text": [
      "Bottom 20 Automation Desire Tasks:\n",
      "Reservation and Transportation Ticket Agents and Travel Clerks: Trace lost, delayed, or misdirected baggage for customers.\n",
      "Automation Desire Rating: 1.5\n",
      "-----------------------\n",
      "Logistics Analysts: Contact potential vendors to determine material availability.\n",
      "Automation Desire Rating: 1.5\n",
      "-----------------------\n",
      "Editors: Write text, such as stories, articles, editorials, or newsletters.\n",
      "Automation Desire Rating: 1.6\n",
      "-----------------------\n",
      "Reservation and Transportation Ticket Agents and Travel Clerks: Contact customers or travel agents to advise them of travel conveyance changes or to confirm reservations.\n",
      "Automation Desire Rating: 1.6666666666666667\n",
      "-----------------------\n",
      "Video Game Designers: Provide feedback to designers and other colleagues regarding game design features.\n",
      "Automation Desire Rating: 1.6666666666666667\n",
      "-----------------------\n",
      "Librarians and Media Collections Specialists: Code, classify, and catalog books, publications, films, audio-visual aids, and other library materials, based on subject matter or standard library classification systems.\n",
      "Automation Desire Rating: 1.6666666666666667\n",
      "-----------------------\n",
      "Editors: Plan the contents of publications according to the publication's style, editorial policy, and publishing requirements.\n",
      "Automation Desire Rating: 1.6666666666666667\n",
      "-----------------------\n",
      "Database Administrators: Write and code logical and physical database descriptions and specify identifiers of database to management system, or direct others in coding descriptions.\n",
      "Automation Desire Rating: 1.6666666666666667\n",
      "-----------------------\n",
      "Graphic Designers: Key information into computer equipment to create layouts for client or supervisor.\n",
      "Automation Desire Rating: 1.6666666666666667\n",
      "-----------------------\n",
      "Mechanical Engineering Technologists and Technicians: Calculate required capacities for equipment of proposed system to obtain specified performance and submit data to engineering personnel for approval.\n",
      "Automation Desire Rating: 1.6666666666666667\n",
      "-----------------------\n",
      "Secretaries and Administrative Assistants, Except Legal, Medical, and Executive: Establish work procedures or schedules and keep track of the daily work of clerical staff.\n",
      "Automation Desire Rating: 1.6666666666666667\n",
      "-----------------------\n",
      "Graphic Designers: Review final layouts and suggest improvements, as needed.\n",
      "Automation Desire Rating: 1.7142857142857142\n",
      "-----------------------\n",
      "Graphic Designers: Prepare illustrations or rough sketches of material, discussing them with clients or supervisors and making necessary changes.\n",
      "Automation Desire Rating: 1.7142857142857142\n",
      "-----------------------\n",
      "Mechanical Engineering Technologists and Technicians: Interpret engineering sketches, specifications, or drawings.\n",
      "Automation Desire Rating: 1.75\n",
      "-----------------------\n",
      "Accountants and Auditors: Prepare, examine, or analyze accounting records, financial statements, or other financial reports to assess accuracy, completeness, and conformance to reporting and procedural standards.\n",
      "Automation Desire Rating: 1.75\n",
      "-----------------------\n",
      "Editors: Allocate print space for story text, photos, and illustrations according to space parameters and copy significance, using knowledge of layout principles.\n",
      "Automation Desire Rating: 1.75\n",
      "-----------------------\n",
      "Producers and Directors: Cut and edit film or tape to integrate component parts into desired sequences.\n",
      "Automation Desire Rating: 1.75\n",
      "-----------------------\n",
      "Graphic Designers: Create designs, concepts, and sample layouts, based on knowledge of layout principles and esthetic design concepts.\n",
      "Automation Desire Rating: 1.7777777777777777\n",
      "-----------------------\n",
      "Librarians and Media Collections Specialists: Locate unusual or unique information in response to specific requests.\n",
      "Automation Desire Rating: 1.8\n",
      "-----------------------\n",
      "Editors: Assign topics, events and stories to individual writers or reporters for coverage.\n",
      "Automation Desire Rating: 1.8\n",
      "-----------------------\n"
     ]
    }
   ],
   "source": [
    "print(\"Bottom 20 Automation Desire Tasks:\")\n",
    "for i, row in task_stats.tail(20).iloc[::-1].iterrows():\n",
    "    print(f\"{row['Occupation (O*NET-SOC Title)']}: {row['Task']}\")\n",
    "    print(f\"Automation Desire Rating: {row['Automation Desire Rating']}\")\n",
    "    print(\"-----------------------\")"
   ]
  },
  {
   "cell_type": "code",
   "execution_count": 5,
   "id": "181ed3f5b6be6375",
   "metadata": {
    "ExecuteTime": {
     "end_time": "2025-06-02T16:02:05.053141Z",
     "start_time": "2025-06-02T16:02:04.087071Z"
    }
   },
   "outputs": [
    {
     "name": "stdout",
     "output_type": "stream",
     "text": [
      "Spearman correlation between Automation Desire and Job Security: -0.223, p-value: 5.743615023579947e-11\n",
      "Spearman correlation between Automation Desire and Enjoyment Rating: -0.284, p-value: 3.885933829852834e-17\n"
     ]
    }
   ],
   "source": [
    "from scipy.stats import spearmanr\n",
    "\n",
    "# Automation desire vs. job loss concern\n",
    "r1_s, p1_s = spearmanr(task_stats['Automation Desire Rating'], task_stats['Job Security Rating'])\n",
    "\n",
    "# Automation desire vs. work enjoyment\n",
    "r2_s, p2_s = spearmanr(task_stats['Automation Desire Rating'], task_stats['Enjoyment Rating'])\n",
    "\n",
    "print(f\"Spearman correlation between Automation Desire and Job Security: {r1_s:.3f}, p-value: {p1_s}\")\n",
    "print(f\"Spearman correlation between Automation Desire and Enjoyment Rating: {r2_s:.3f}, p-value: {p2_s}\")"
   ]
  },
  {
   "cell_type": "markdown",
   "id": "1e0807996c347145",
   "metadata": {},
   "source": [
    "## Plotting Automation Desire Rank"
   ]
  },
  {
   "cell_type": "code",
   "execution_count": 6,
   "id": "initial_id",
   "metadata": {
    "ExecuteTime": {
     "end_time": "2025-05-31T00:34:43.596486Z",
     "start_time": "2025-05-31T00:34:43.491921Z"
    }
   },
   "outputs": [
    {
     "data": {
      "image/png": "[encoded data removed]",
      "text/plain": [
       "<Figure size 1000x1000 with 1 Axes>"
      ]
     },
     "metadata": {},
     "output_type": "display_data"
    }
   ],
   "source": [
    "import matplotlib.pyplot as plt\n",
    "import matplotlib.font_manager as fm\n",
    "\n",
    "import numpy as np\n",
    "\n",
    "# Rank tasks (0 = highest automation desire)\n",
    "task_stats[\"rank\"] = range(len(task_stats))\n",
    "\n",
    "# --- Select percentiles ---\n",
    "percentiles = np.arange(100, 0, -5)\n",
    "indices = [int(np.percentile(task_stats.index, 100 - p)) for p in percentiles]\n",
    "highlighted = task_stats.loc[indices].reset_index(drop=True)\n",
    "\n",
    "# --- Calculate percentage of tasks with automation desire > 3 ---\n",
    "percent_high_desire = (task_stats[\"Automation Desire Rating\"] > 3).mean() * 100\n",
    "\n",
    "# --- Plotting ---\n",
    "fig, ax1 = plt.subplots(figsize=(10, 10))  # 12, 10))\n",
    "fig.patch.set_facecolor('white')    # white background\n",
    "ax1.set_facecolor('white')          # also white background for the axes\n",
    "\n",
    "# Set only horizontal grid\n",
    "ax1.grid(True, axis='y', color=\"gray\", linestyle='--', linewidth=0.5, alpha=0.7)\n",
    "ax1.grid(False, axis='x')\n",
    "\n",
    "# Fill area under automation desire curve\n",
    "# ax1.fill_between(\n",
    "#     task_stats[\"rank\"],\n",
    "#     1,  # Start from 1 instead of 0\n",
    "#     task_stats[\"Automation Desire Rating\"],\n",
    "#     color=\"lightgray\",\n",
    "#     alpha=0.4\n",
    "# )\n",
    "\n",
    "# Automation desire curve\n",
    "ax1.plot(task_stats[\"rank\"], task_stats[\"Automation Desire Rating\"], color='black', linewidth=2, label=\"Automation Desire\")\n",
    "\n",
    "# Horizontal dotted line at y = 3\n",
    "ax1.axhline(y=3, color='black', linestyle=':', linewidth=2)\n",
    "\n",
    "# Add percentage annotation\n",
    "ax1.text(\n",
    "    task_stats[\"rank\"].max() * 0.05,\n",
    "    3.05,\n",
    "    f\"{percent_high_desire:.1f}% tasks > 3\",\n",
    "    fontsize=20,\n",
    "    fontweight='bold',\n",
    "    color='black',\n",
    "    ha='left'\n",
    ")\n",
    "\n",
    "# Connecting lines and dots for highlighted tasks\n",
    "# for i, row in highlighted.iterrows():\n",
    "#     ax1.scatter(row[\"rank\"], row[\"Job Security Rating\"], color='#bd4e33', alpha=1, label='Job Loss Concern' if i == 0 else \"\", marker='o')\n",
    "#     ax1.scatter(row[\"rank\"], row[\"Enjoyment Rating\"], color='#f32672', alpha=1, label='Enjoyment' if i == 0 else \"\", marker='^')\n",
    "#     ax1.plot(\n",
    "#         [row[\"rank\"]]*2,\n",
    "#         [row[\"Job Security Rating\"], row[\"Enjoyment Rating\"]],\n",
    "#         color='gray',\n",
    "#         alpha=1,\n",
    "#         linewidth=1.5\n",
    "#     )\n",
    "\n",
    "# Axis settings\n",
    "ax1.set_yticks([1, 2, 3, 4, 5])\n",
    "ax1.set_yticklabels([1, 2, 3, 4, 5], fontdict={\"fontsize\": 16, \"fontweight\": \"bold\", \"color\": \"black\"})\n",
    "ax1.set_ylabel(\"Automation Desire\", fontdict={\"fontsize\": 20, \"fontweight\": \"bold\", \"color\": \"black\"})\n",
    "ax1.set_xlabel(\"Task Rank\", fontdict={\"fontsize\": 20, \"fontweight\": \"bold\", \"color\": \"black\"})\n",
    "ax1.set_xticks([1, len(task_stats)])\n",
    "ax1.set_xticklabels([1, len(task_stats)], fontdict={\"fontsize\": 16, \"fontweight\": \"bold\", \"color\": \"black\"})  # Show only first, middle, and last ticks\n",
    "\n",
    "# Top task labels\n",
    "# ax2 = ax1.twiny()\n",
    "# ax2.set_xlim(ax1.get_xlim())\n",
    "# ax2.set_xticks(highlighted[\"rank\"])\n",
    "# ax2.set_xticklabels(highlighted[\"Task\"], rotation=45, ha='left')\n",
    "\n",
    "# Grid and border styling\n",
    "# ax2.grid(True, axis='y', color=\"gray\", linestyle='--', linewidth=0.5, alpha=0.7)\n",
    "# ax2.grid(False, axis='x')\n",
    "\n",
    "for spine in ax1.spines.values():\n",
    "    spine.set_edgecolor('black')\n",
    "    spine.set_linewidth(1.5)\n",
    "# for spine in ax2.spines.values():\n",
    "#     spine.set_edgecolor('black')\n",
    "#     spine.set_linewidth(1.5)\n",
    "\n",
    "# Legend & layout\n",
    "# legend = ax1.legend(\n",
    "#     loc=\"upper right\",\n",
    "#     bbox_to_anchor=(0.95, 0.95),\n",
    "#     prop=fm.FontProperties(weight='bold', size=16),\n",
    "#     frameon=True\n",
    "# )\n",
    "# legend.get_frame().set_facecolor('white')\n",
    "# legend.get_frame().set_edgecolor('gray')\n",
    "# legend.get_frame().set_linewidth(1.5)\n",
    "# legend.get_frame().set_boxstyle('round,pad=0.5')\n",
    "# for text in legend.get_texts():\n",
    "#     text.set_fontweight('bold')\n",
    "\n",
    "plt.tight_layout()\n",
    "plt.show()\n",
    "\n"
   ]
  },
  {
   "cell_type": "code",
   "execution_count": 7,
   "id": "ebb42416315a4606",
   "metadata": {
    "ExecuteTime": {
     "end_time": "2025-05-31T00:37:29.191594Z",
     "start_time": "2025-05-31T00:37:29.163576Z"
    }
   },
   "outputs": [],
   "source": [
    "import os\n",
    "\n",
    "\n",
    "def plot_sector_task_profile(sector, file_path=None, show_legend=True):\n",
    "    \"\"\"\n",
    "    Plot automation desire and associated metrics for a given sector.\n",
    "    \n",
    "    Args:\n",
    "        sector (str): Name of the sector (used to load occupations).\n",
    "        file_path (str, optional): If provided, save the figure to this path.\n",
    "        show_legend (bool, optional): Whether to show the legend.\n",
    "    \"\"\"\n",
    "    # Load sector occupation list\n",
    "    sector_filename = f\"../external_data/onet_data/onet_sector/{sector.replace(' ', '_')}.csv\"\n",
    "    if not os.path.exists(sector_filename):\n",
    "        raise FileNotFoundError(f\"Sector file not found: {sector_filename}\")\n",
    "    \n",
    "    sector_occupations = pd.read_csv(sector_filename)[\"Occupation\"].unique()\n",
    "    \n",
    "    # Filter responses\n",
    "    responses_sector = domain_worker_desires[domain_worker_desires[\"Occupation (O*NET-SOC Title)\"].isin(sector_occupations)]\n",
    "    \n",
    "    if responses_sector.empty:\n",
    "        raise ValueError(f\"No matching responses found for sector: {sector}\")\n",
    "    \n",
    "    # Aggregate metrics\n",
    "    task_stats = responses_sector.groupby(\"Task\").agg({\n",
    "        \"Automation Desire Rating\": \"mean\",\n",
    "        \"Job Security Rating\": \"mean\",\n",
    "        \"Enjoyment Rating\": \"mean\"\n",
    "    }).sort_values(\"Automation Desire Rating\", ascending=False).reset_index()\n",
    "    \n",
    "    task_stats[\"rank\"] = range(len(task_stats))\n",
    "    \n",
    "    # Select percentiles\n",
    "    percentiles = np.arange(100, 0, -5)\n",
    "    indices = [int(np.percentile(task_stats.index, 100 - p)) for p in percentiles]\n",
    "    highlighted = task_stats.loc[indices].reset_index(drop=True)\n",
    "    \n",
    "    # Calculate percentage of workflows with automation desire > 3\n",
    "    percent_high_desire = (task_stats[\"Automation Desire Rating\"] > 3).mean() * 100\n",
    "    \n",
    "    # --- Plotting ---\n",
    "    fig, ax1 = plt.subplots(figsize=(10, 10))\n",
    "    fig.patch.set_facecolor('white')    # white background\n",
    "    ax1.set_facecolor('white')          # also white background for the axes\n",
    "    \n",
    "    # Set only horizontal grid\n",
    "    ax1.grid(True, axis='y', color=\"gray\", linestyle='--', linewidth=0.5, alpha=0.7)\n",
    "    ax1.grid(False, axis='x')\n",
    "    \n",
    "    # Automation desire curve\n",
    "    ax1.plot(task_stats[\"rank\"], task_stats[\"Automation Desire Rating\"], color='black', linewidth=2, label=\"Automation Desire\")\n",
    "    \n",
    "    # Horizontal dotted line at y = 3\n",
    "    ax1.axhline(y=3, color='black', linestyle=':', linewidth=2)\n",
    "    \n",
    "    # Add percentage annotation\n",
    "    ax1.text(\n",
    "        task_stats[\"rank\"].max() * 0.05,\n",
    "        3.05,\n",
    "        f\"{percent_high_desire:.1f}% tasks > 3\",\n",
    "        fontsize=28,\n",
    "        fontweight='bold',\n",
    "        color='black',\n",
    "        ha='left'\n",
    "    )\n",
    "    \n",
    "    # Connecting lines and dots for highlighted tasks\n",
    "    # for i, row in highlighted.iterrows():\n",
    "    #     ax1.scatter(row[\"rank\"], row[\"Job Security Rating\"], color='#bd4e33', alpha=1, label='Job Loss Concern' if i == 0 else \"\", marker='o')\n",
    "    #     ax1.scatter(row[\"rank\"], row[\"Enjoyment Rating\"], color='#f32672', alpha=1, label='Enjoyment' if i == 0 else \"\", marker='^')\n",
    "    #     ax1.plot(\n",
    "    #         [row[\"rank\"]]*2,\n",
    "    #         [row[\"Job Security Rating\"], row[\"Enjoyment Rating\"]],\n",
    "    #         color='gray',\n",
    "    #         alpha=1,\n",
    "    #         linewidth=1.5\n",
    "    #     )\n",
    "    \n",
    "    # Axis settings\n",
    "    ax1.set_yticks([1, 2, 3, 4, 5])\n",
    "    ax1.set_yticklabels([1, 2, 3, 4, 5], fontdict={\"fontsize\": 24, \"fontweight\": \"bold\", \"color\": \"black\"})\n",
    "    ax1.set_ylabel(\"Automation Desire\", fontdict={\"fontsize\": 28, \"fontweight\": \"bold\", \"color\": \"black\"})\n",
    "    ax1.set_xlabel(\"Task Rank\", fontdict={\"fontsize\": 28, \"fontweight\": \"bold\", \"color\": \"black\"})\n",
    "    ax1.set_xticks([1, len(task_stats)])\n",
    "    ax1.set_xticklabels([1, len(task_stats)], fontdict={\"fontsize\": 24, \"fontweight\": \"bold\", \"color\": \"black\"})  # Show only first, middle, and last ticks\n",
    "    \n",
    "    for spine in ax1.spines.values():\n",
    "        spine.set_edgecolor('black')\n",
    "        spine.set_linewidth(1.5)\n",
    "    \n",
    "    if show_legend:\n",
    "        # Legend & layout\n",
    "        legend = ax1.legend(\n",
    "            loc=\"upper right\",\n",
    "            bbox_to_anchor=(0.95, 0.95),\n",
    "            prop=fm.FontProperties(weight='bold', size=16),\n",
    "            frameon=True\n",
    "        )\n",
    "        legend.get_frame().set_facecolor('white')\n",
    "        legend.get_frame().set_edgecolor('gray')\n",
    "        legend.get_frame().set_linewidth(1.5)\n",
    "        legend.get_frame().set_boxstyle('round,pad=0.5')\n",
    "        for text in legend.get_texts():\n",
    "            text.set_fontweight('bold')\n",
    "\n",
    "    plt.tight_layout()\n",
    "    \n",
    "    if file_path is not None:\n",
    "        plt.savefig(file_path, bbox_inches='tight')\n",
    "        plt.close(fig)\n",
    "    else:\n",
    "        plt.show()\n",
    "    \n",
    "    print(f\"Sector: {sector}, {percent_high_desire:.1f}% workflows > 3\")\n"
   ]
  },
  {
   "cell_type": "code",
   "execution_count": 8,
   "id": "f46f04b674327a68",
   "metadata": {
    "ExecuteTime": {
     "end_time": "2025-05-31T00:37:32.053470Z",
     "start_time": "2025-05-31T00:37:31.334502Z"
    }
   },
   "outputs": [
    {
     "name": "stdout",
     "output_type": "stream",
     "text": [
      "Sector: Computer and Mathematical, 53.8% workflows > 3\n",
      "Sector: Office and Administrative Support, 42.8% workflows > 3\n",
      "Sector: Management, 51.1% workflows > 3\n",
      "Sector: Sales and Related, 44.1% workflows > 3\n",
      "Sector: Business and Financial Operations, 48.8% workflows > 3\n",
      "Sector: Educational Instruction and Library, 56.2% workflows > 3\n",
      "Sector: Arts Design Entertainment Sports and Media, 17.1% workflows > 3\n"
     ]
    }
   ],
   "source": [
    "for sector in [\n",
    "    \"Computer and Mathematical\",\n",
    "    \"Office and Administrative Support\",\n",
    "    \"Management\",\n",
    "    \"Sales and Related\",\n",
    "    \"Business and Financial Operations\",\n",
    "    \"Educational Instruction and Library\",\n",
    "    \"Arts Design Entertainment Sports and Media\",\n",
    "]:\n",
    "    plot_sector_task_profile(\n",
    "        sector=sector,\n",
    "        file_path=f\"../local/automation_desire/{sector.replace(' ', '_')}.png\",\n",
    "        show_legend=False\n",
    "    )"
   ]
  },
  {
   "cell_type": "markdown",
   "id": "3d24200ecc702bfe",
   "metadata": {},
   "source": [
    "## Plotting Automation Desire Reason"
   ]
  },
  {
   "cell_type": "code",
   "execution_count": 9,
   "id": "b4e39d9df257e026",
   "metadata": {
    "ExecuteTime": {
     "end_time": "2025-05-22T19:56:10.005434Z",
     "start_time": "2025-05-22T19:56:09.982781Z"
    }
   },
   "outputs": [
    {
     "name": "stdout",
     "output_type": "stream",
     "text": [
      "Number of responses: 3618\n",
      "\n",
      "Reason: Reasons for Automation Desire - Free Time, Desire Group: 3, Count: 969\n",
      "Reason: Reasons for Automation Desire - Free Time, Desire Group: 4, Count: 874\n",
      "Reason: Reasons for Automation Desire - Free Time, Desire Group: 5, Count: 667\n",
      "Reason: Reasons for Automation Desire - Repetitive, Desire Group: 3, Count: 605\n",
      "Reason: Reasons for Automation Desire - Repetitive, Desire Group: 4, Count: 573\n",
      "Reason: Reasons for Automation Desire - Repetitive, Desire Group: 5, Count: 508\n",
      "Reason: Reasons for Automation Desire - Human Error, Desire Group: 3, Count: 646\n",
      "Reason: Reasons for Automation Desire - Human Error, Desire Group: 4, Count: 598\n",
      "Reason: Reasons for Automation Desire - Human Error, Desire Group: 5, Count: 442\n",
      "Reason: Reasons for Automation Desire - Stress, Desire Group: 3, Count: 333\n",
      "Reason: Reasons for Automation Desire - Stress, Desire Group: 4, Count: 332\n",
      "Reason: Reasons for Automation Desire - Stress, Desire Group: 5, Count: 258\n",
      "Reason: Reasons for Automation Desire - Difficulty, Desire Group: 3, Count: 286\n",
      "Reason: Reasons for Automation Desire - Difficulty, Desire Group: 4, Count: 238\n",
      "Reason: Reasons for Automation Desire - Difficulty, Desire Group: 5, Count: 159\n"
     ]
    }
   ],
   "source": [
    "prone_automation_subset = domain_worker_desires[domain_worker_desires[\"Automation Desire Rating\"] >= 3]\n",
    "\n",
    "reasons = [\n",
    "    \"Reasons for Automation Desire - Free Time\",\n",
    "    \"Reasons for Automation Desire - Repetitive\",\n",
    "    \"Reasons for Automation Desire - Human Error\",\n",
    "    \"Reasons for Automation Desire - Stress\",\n",
    "    \"Reasons for Automation Desire - Difficulty\"\n",
    "]\n",
    "desire_group = [3, 4, 5]\n",
    "\n",
    "# Create a new DataFrame to hold the counts\n",
    "reason_counts = {\n",
    "    \"Reason\": [],\n",
    "    \"Count\": [],\n",
    "    \"Desire Group\": []\n",
    "}\n",
    "for reason in reasons:\n",
    "    for group in desire_group:\n",
    "        count = prone_automation_subset[prone_automation_subset[\"Automation Desire Rating\"] == group][reason].sum()\n",
    "        reason_counts[\"Reason\"].append(reason)\n",
    "        reason_counts[\"Count\"].append(count)\n",
    "        reason_counts[\"Desire Group\"].append(group)\n",
    "\n",
    "reason_counts = pd.DataFrame(reason_counts)\n",
    "\n",
    "# Print the result ranked based on the total count for a reason.\n",
    "print(f\"Number of responses: {len(prone_automation_subset)}\\n\")\n",
    "reason_counts[\"Total Count\"] = reason_counts.groupby(\"Reason\")[\"Count\"].transform(\"sum\")\n",
    "reason_counts = reason_counts.sort_values(by=[\"Total Count\"], ascending=False).reset_index(drop=True)\n",
    "for i, row in reason_counts.iterrows():\n",
    "    print(f\"Reason: {row['Reason']}, Desire Group: {row['Desire Group']}, Count: {row['Count']}\")"
   ]
  },
  {
   "cell_type": "markdown",
   "id": "8d94063b4807b2d4",
   "metadata": {},
   "source": [
    "## Percentage of Claude.ai usage of top 10 occupations with the highest automation desire"
   ]
  },
  {
   "cell_type": "code",
   "execution_count": 10,
   "id": "331453348e195c05",
   "metadata": {
    "ExecuteTime": {
     "end_time": "2025-05-22T20:06:21.938054Z",
     "start_time": "2025-05-22T20:06:21.893757Z"
    }
   },
   "outputs": [
    {
     "name": "stdout",
     "output_type": "stream",
     "text": [
      "Percentage of Claude usage amongst top 10 occupations with highest desire:  1.2591366887727833\n",
      "Breakdown by occupation for top 10\n",
      "                     Occupation (O*NET-SOC Title)       pct\n",
      "76                Public Safety Telecommunicators  0.038045\n",
      "23   Computer and Information Research Scientists  0.085992\n",
      "17                            Compliance Officers  0.016547\n",
      "30                              Data Entry Keyers  0.004169\n",
      "93                                  Tax Preparers  0.017980\n",
      "63    Network and Computer Systems Administrators  0.100715\n",
      "68                            Petroleum Engineers  0.000000\n",
      "7                    Biofuels Production Managers  0.000000\n",
      "15                         Clinical Data Managers  0.048208\n",
      "101                            Web Administrators  0.947480\n",
      "Sum of usage:  1.2591366887727833\n"
     ]
    }
   ],
   "source": [
    "# Aggregate task-level stats with occupation information\n",
    "task_stats_with_occupation = domain_worker_desires.groupby(\"Task\").agg({\n",
    "    \"Automation Desire Rating\": \"mean\",\n",
    "    \"Job Security Rating\": \"mean\",\n",
    "    \"Enjoyment Rating\": \"mean\",\n",
    "    \"Occupation (O*NET-SOC Title)\": \"first\"\n",
    "}).reset_index()\n",
    "\n",
    "# lowercase task column for merging with Claude usage data\n",
    "task_stats_with_occupation[\"Task\"] = task_stats_with_occupation[\"Task\"].str.lower()\n",
    "\n",
    "# Load Claude usage data and rename column for merging\n",
    "task_claude_usage_data = pd.read_csv('../external_data/usage_from_anthropic.csv')\n",
    "task_claude_usage_data = task_claude_usage_data.rename({\"task_name\": \"Task\"}, axis=1)\n",
    "\n",
    "# Merge task stats with Claude usage\n",
    "merged_data = task_stats_with_occupation.merge(task_claude_usage_data, on=\"Task\", how=\"left\")\n",
    "\n",
    "# Group by occupation and compute mean automation desire and total Claude usage\n",
    "occupation_stats = merged_data.groupby(\"Occupation (O*NET-SOC Title)\").agg({\n",
    "    \"Automation Desire Rating\": \"mean\",\n",
    "    \"pct\": \"sum\"  \n",
    "}).reset_index()\n",
    "\n",
    "# Sort to get top 10 occupations by automation desire\n",
    "top_10_occupations = occupation_stats.sort_values(\"Automation Desire Rating\", ascending=False).head(10)\n",
    "\n",
    "# Compute total Claude usage across these top 10\n",
    "total_claude_usage_top_10 = top_10_occupations[\"pct\"].sum()\n",
    "# print percentage of usage\n",
    "print(\"Percentage of Claude usage amongst top 10 occupations with highest desire: \", total_claude_usage_top_10)\n",
    "# print occupational breakdown\n",
    "print(\"Breakdown by occupation for top 10\")\n",
    "print(top_10_occupations[[\"Occupation (O*NET-SOC Title)\", \"pct\"]])\n",
    "print(\"Sum of usage: \", top_10_occupations[\"pct\"].sum())\n",
    "\n"
   ]
  }
 ],
 "metadata": {
  "kernelspec": {
   "display_name": "agent",
   "language": "python",
   "name": "python3"
  },
  "language_info": {
   "codemirror_mode": {
    "name": "ipython",
    "version": 3
   },
   "file_extension": ".py",
   "mimetype": "text/x-python",
   "name": "python",
   "nbconvert_exporter": "python",
   "pygments_lexer": "ipython3",
   "version": "3.11.5"
  }
 },
 "nbformat": 4,
 "nbformat_minor": 5
}
