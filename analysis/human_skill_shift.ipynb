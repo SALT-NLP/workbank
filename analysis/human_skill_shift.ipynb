{
 "cells": [
  {
   "cell_type": "code",
   "execution_count": 1,
   "id": "initial_id",
   "metadata": {
    "ExecuteTime": {
     "end_time": "2025-06-03T05:57:57.636037Z",
     "start_time": "2025-06-03T05:57:57.074254Z"
    },
    "collapsed": true
   },
   "outputs": [],
   "source": [
    "import pandas as pd\n",
    "from datasets import load_dataset\n",
    "\n",
    "expert_ratings = load_dataset(\"SALT-NLP/WORKBank\", data_files=\"expert_ratings/expert_rated_technological_capability.csv\")[\"train\"].to_pandas()\n",
    "task_statement_metadata = load_dataset(\"SALT-NLP/WORKBank\", data_files=\"task_data/task_statement_with_metadata.csv\")[\"train\"].to_pandas()"
   ]
  },
  {
   "cell_type": "code",
   "execution_count": 2,
   "id": "8c00b8ea848dad",
   "metadata": {
    "ExecuteTime": {
     "end_time": "2025-06-03T05:57:57.670333Z",
     "start_time": "2025-06-03T05:57:57.636819Z"
    }
   },
   "outputs": [
    {
     "name": "stdout",
     "output_type": "stream",
     "text": [
      "35\n"
     ]
    }
   ],
   "source": [
    "all_skills = set()\n",
    "for _, row in task_statement_metadata.iterrows():\n",
    "\tskills = eval(row['Skill (O*NET Work Activity)'])\n",
    "\tfor skill in skills:\n",
    "\t\tif isinstance(skill, str):\n",
    "\t\t\tall_skills.add(skill)\n",
    "\n",
    "print(len(all_skills))"
   ]
  },
  {
   "cell_type": "code",
   "execution_count": 3,
   "id": "60c7338c2de41c86",
   "metadata": {
    "ExecuteTime": {
     "end_time": "2025-06-03T05:57:57.696179Z",
     "start_time": "2025-06-03T05:57:57.670892Z"
    }
   },
   "outputs": [
    {
     "data": {
      "text/html": [
       "<div>\n",
       "<style scoped>\n",
       "    .dataframe tbody tr th:only-of-type {\n",
       "        vertical-align: middle;\n",
       "    }\n",
       "\n",
       "    .dataframe tbody tr th {\n",
       "        vertical-align: top;\n",
       "    }\n",
       "\n",
       "    .dataframe thead th {\n",
       "        text-align: right;\n",
       "    }\n",
       "</style>\n",
       "<table border=\"1\" class=\"dataframe\">\n",
       "  <thead>\n",
       "    <tr style=\"text-align: right;\">\n",
       "      <th></th>\n",
       "      <th>O*NET-SOC Code</th>\n",
       "      <th>Occupation (O*NET-SOC Title)</th>\n",
       "      <th>Task ID</th>\n",
       "      <th>Task</th>\n",
       "      <th>Task Type</th>\n",
       "      <th>Date</th>\n",
       "      <th>Category</th>\n",
       "      <th>Frequency</th>\n",
       "      <th>Importance</th>\n",
       "      <th>Relevance</th>\n",
       "      <th>Occupation Mean Annual Wage</th>\n",
       "      <th>Occupation Employment</th>\n",
       "      <th>Skill (O*NET Work Activity)</th>\n",
       "      <th>Skill ID (O*NET Generalized Work Activity ID)</th>\n",
       "      <th>Human Agency Scale Rating</th>\n",
       "    </tr>\n",
       "  </thead>\n",
       "  <tbody>\n",
       "    <tr>\n",
       "      <th>0</th>\n",
       "      <td>11-2011.00</td>\n",
       "      <td>Advertising and Promotions Managers</td>\n",
       "      <td>3226</td>\n",
       "      <td>Inspect layouts and advertising copy, and edit...</td>\n",
       "      <td>Core</td>\n",
       "      <td>08/2018</td>\n",
       "      <td>3.0</td>\n",
       "      <td>3.0</td>\n",
       "      <td>4.07</td>\n",
       "      <td>87.26</td>\n",
       "      <td>149270.0</td>\n",
       "      <td>21100.0</td>\n",
       "      <td>['Evaluating Information to Determine Complian...</td>\n",
       "      <td>['4.A.2.a.3']</td>\n",
       "      <td>2.0</td>\n",
       "    </tr>\n",
       "    <tr>\n",
       "      <th>1</th>\n",
       "      <td>11-2011.00</td>\n",
       "      <td>Advertising and Promotions Managers</td>\n",
       "      <td>3242</td>\n",
       "      <td>Coordinate with the media to disseminate adver...</td>\n",
       "      <td>Core</td>\n",
       "      <td>08/2018</td>\n",
       "      <td>3.0</td>\n",
       "      <td>3.0</td>\n",
       "      <td>3.87</td>\n",
       "      <td>80.19</td>\n",
       "      <td>149270.0</td>\n",
       "      <td>21100.0</td>\n",
       "      <td>['Communicating with Supervisors, Peers, or Su...</td>\n",
       "      <td>['4.A.4.a.2']</td>\n",
       "      <td>3.0</td>\n",
       "    </tr>\n",
       "    <tr>\n",
       "      <th>2</th>\n",
       "      <td>11-2011.00</td>\n",
       "      <td>Advertising and Promotions Managers</td>\n",
       "      <td>3223</td>\n",
       "      <td>Prepare budgets and submit estimates for progr...</td>\n",
       "      <td>Core</td>\n",
       "      <td>08/2018</td>\n",
       "      <td>3.0</td>\n",
       "      <td>3.0</td>\n",
       "      <td>3.67</td>\n",
       "      <td>81.73</td>\n",
       "      <td>149270.0</td>\n",
       "      <td>21100.0</td>\n",
       "      <td>['Guiding, Directing, and Motivating Subordina...</td>\n",
       "      <td>['4.A.4.b.4']</td>\n",
       "      <td>2.0</td>\n",
       "    </tr>\n",
       "    <tr>\n",
       "      <th>3</th>\n",
       "      <td>11-2011.00</td>\n",
       "      <td>Advertising and Promotions Managers</td>\n",
       "      <td>3243</td>\n",
       "      <td>Contact organizations to explain services and ...</td>\n",
       "      <td>Core</td>\n",
       "      <td>08/2018</td>\n",
       "      <td>5.0</td>\n",
       "      <td>5.0</td>\n",
       "      <td>3.61</td>\n",
       "      <td>79.02</td>\n",
       "      <td>149270.0</td>\n",
       "      <td>21100.0</td>\n",
       "      <td>['Selling or Influencing Others']</td>\n",
       "      <td>['4.A.4.a.6']</td>\n",
       "      <td>4.0</td>\n",
       "    </tr>\n",
       "    <tr>\n",
       "      <th>4</th>\n",
       "      <td>11-2011.00</td>\n",
       "      <td>Advertising and Promotions Managers</td>\n",
       "      <td>3233</td>\n",
       "      <td>Monitor and analyze sales promotion results to...</td>\n",
       "      <td>Core</td>\n",
       "      <td>08/2018</td>\n",
       "      <td>3.0</td>\n",
       "      <td>3.0</td>\n",
       "      <td>3.59</td>\n",
       "      <td>77.04</td>\n",
       "      <td>149270.0</td>\n",
       "      <td>21100.0</td>\n",
       "      <td>['Analyzing Data or Information']</td>\n",
       "      <td>['4.A.2.a.4']</td>\n",
       "      <td>1.5</td>\n",
       "    </tr>\n",
       "  </tbody>\n",
       "</table>\n",
       "</div>"
      ],
      "text/plain": [
       "  O*NET-SOC Code         Occupation (O*NET-SOC Title)  Task ID  \\\n",
       "0     11-2011.00  Advertising and Promotions Managers     3226   \n",
       "1     11-2011.00  Advertising and Promotions Managers     3242   \n",
       "2     11-2011.00  Advertising and Promotions Managers     3223   \n",
       "3     11-2011.00  Advertising and Promotions Managers     3243   \n",
       "4     11-2011.00  Advertising and Promotions Managers     3233   \n",
       "\n",
       "                                                Task Task Type     Date  \\\n",
       "0  Inspect layouts and advertising copy, and edit...      Core  08/2018   \n",
       "1  Coordinate with the media to disseminate adver...      Core  08/2018   \n",
       "2  Prepare budgets and submit estimates for progr...      Core  08/2018   \n",
       "3  Contact organizations to explain services and ...      Core  08/2018   \n",
       "4  Monitor and analyze sales promotion results to...      Core  08/2018   \n",
       "\n",
       "   Category  Frequency  Importance  Relevance  Occupation Mean Annual Wage  \\\n",
       "0       3.0        3.0        4.07      87.26                     149270.0   \n",
       "1       3.0        3.0        3.87      80.19                     149270.0   \n",
       "2       3.0        3.0        3.67      81.73                     149270.0   \n",
       "3       5.0        5.0        3.61      79.02                     149270.0   \n",
       "4       3.0        3.0        3.59      77.04                     149270.0   \n",
       "\n",
       "   Occupation Employment                        Skill (O*NET Work Activity)  \\\n",
       "0                21100.0  ['Evaluating Information to Determine Complian...   \n",
       "1                21100.0  ['Communicating with Supervisors, Peers, or Su...   \n",
       "2                21100.0  ['Guiding, Directing, and Motivating Subordina...   \n",
       "3                21100.0                  ['Selling or Influencing Others']   \n",
       "4                21100.0                  ['Analyzing Data or Information']   \n",
       "\n",
       "  Skill ID (O*NET Generalized Work Activity ID)  Human Agency Scale Rating  \n",
       "0                                 ['4.A.2.a.3']                        2.0  \n",
       "1                                 ['4.A.4.a.2']                        3.0  \n",
       "2                                 ['4.A.4.b.4']                        2.0  \n",
       "3                                 ['4.A.4.a.6']                        4.0  \n",
       "4                                 ['4.A.2.a.4']                        1.5  "
      ]
     },
     "execution_count": 3,
     "metadata": {},
     "output_type": "execute_result"
    }
   ],
   "source": [
    "# Compute the Average Human Agency Scale Rating\n",
    "avg_has = expert_ratings.groupby(\"Task\")[\"Human Agency Scale Rating\"].mean()\n",
    "task_statement_metadata = task_statement_metadata.merge(avg_has, on=\"Task\")\n",
    "task_statement_metadata.head()"
   ]
  },
  {
   "cell_type": "code",
   "execution_count": 4,
   "id": "d4110c20939df7c",
   "metadata": {
    "ExecuteTime": {
     "end_time": "2025-06-03T05:57:57.713177Z",
     "start_time": "2025-06-03T05:57:57.696615Z"
    }
   },
   "outputs": [],
   "source": [
    "skill_to_has_ratings = {}\n",
    "for _, row in task_statement_metadata.iterrows():\n",
    "\tskills = eval(row['Skill (O*NET Work Activity)'])\n",
    "\thas_rating = row['Human Agency Scale Rating']\n",
    "\tfor skill in skills:\n",
    "\t\tif isinstance(skill, str):\n",
    "\t\t\tif skill not in skill_to_has_ratings:\n",
    "\t\t\t\tskill_to_has_ratings[skill] = []\n",
    "\t\t\tskill_to_has_ratings[skill].append(has_rating)"
   ]
  },
  {
   "cell_type": "code",
   "execution_count": 5,
   "id": "90f8c2132fa5dec7",
   "metadata": {
    "ExecuteTime": {
     "end_time": "2025-06-03T05:58:00.437990Z",
     "start_time": "2025-06-03T05:58:00.415521Z"
    }
   },
   "outputs": [],
   "source": [
    "skill_to_wage = {}\n",
    "for _, row in task_statement_metadata.iterrows():\n",
    "\tskills = eval(row['Skill (O*NET Work Activity)'])\n",
    "\twage = row['Occupation Mean Annual Wage']\n",
    "\tfor skill in skills:\n",
    "\t\tif isinstance(skill, str):\n",
    "\t\t\tif skill not in skill_to_wage:\n",
    "\t\t\t\tskill_to_wage[skill] = []\n",
    "\t\t\tskill_to_wage[skill].append(wage)"
   ]
  },
  {
   "cell_type": "code",
   "execution_count": 6,
   "id": "ad4706fbc8ad2c95",
   "metadata": {
    "ExecuteTime": {
     "end_time": "2025-06-03T06:54:02.739179Z",
     "start_time": "2025-06-03T06:54:02.703846Z"
    }
   },
   "outputs": [],
   "source": [
    "skill_info = {\n",
    "\t\"skill\": [],\n",
    "\t\"mean_has_rating\": [],\n",
    "\t\"1_rating_cnt\": [],\n",
    "\t\"2_rating_cnt\": [],\n",
    "\t\"3_rating_cnt\": [],\n",
    "\t\"4_rating_cnt\": [],\n",
    "\t\"5_rating_cnt\": [],\n",
    "\t\"mean_wage\": []\n",
    "}\n",
    "for skill, ratings in skill_to_has_ratings.items():\n",
    "\tskill_info[\"skill\"].append(skill)\n",
    "\tskill_info[\"mean_has_rating\"].append(sum(ratings) / len(ratings))\n",
    "\t_1_rating_cnt = 0\n",
    "\t_2_rating_cnt = 0\n",
    "\t_3_rating_cnt = 0\n",
    "\t_4_rating_cnt = 0\n",
    "\t_5_rating_cnt = 0\n",
    "\tfor rating in ratings:\n",
    "\t\tif 1.0 <= rating < 1.5:\n",
    "\t\t\t_1_rating_cnt += 1\n",
    "\t\telif 1.5 <= rating < 2.5:\n",
    "\t\t\t_2_rating_cnt += 1\n",
    "\t\telif 2.5 <= rating < 3.5:\n",
    "\t\t\t_3_rating_cnt += 1\n",
    "\t\telif 3.5 <= rating < 4.5:\n",
    "\t\t\t_4_rating_cnt += 1\n",
    "\t\telif 4.5 <= rating <= 5.0:\n",
    "\t\t\t_5_rating_cnt += 1\n",
    "\tskill_info[\"1_rating_cnt\"].append(_1_rating_cnt)\n",
    "\tskill_info[\"2_rating_cnt\"].append(_2_rating_cnt)\n",
    "\tskill_info[\"3_rating_cnt\"].append(_3_rating_cnt)\n",
    "\tskill_info[\"4_rating_cnt\"].append(_4_rating_cnt)\n",
    "\tskill_info[\"5_rating_cnt\"].append(_5_rating_cnt)\n",
    "\twage_without_nan = [wage for wage in skill_to_wage.get(skill, []) if not pd.isna(wage)]\n",
    "\tif wage_without_nan:\n",
    "\t\tskill_info[\"mean_wage\"].append(sum(wage_without_nan) / len(wage_without_nan))\n",
    "\telse:\n",
    "\t\tskill_info[\"mean_wage\"].append(0)\n",
    "\n",
    "skill_info_df = pd.DataFrame(skill_info)\n",
    "skill_info_df = skill_info_df.sort_values(\"mean_wage\", ascending=False)\n",
    "skill_info_df.to_csv(\"../local/skill_info.csv\", index=False)\n",
    "\n",
    "# Drop points with mean_wage == 0\n",
    "skill_info_df = skill_info_df[skill_info_df[\"mean_wage\"] > 0]"
   ]
  },
  {
   "cell_type": "code",
   "execution_count": 7,
   "id": "6fbfc77c609d43c2",
   "metadata": {
    "ExecuteTime": {
     "end_time": "2025-06-03T06:54:03.353618Z",
     "start_time": "2025-06-03T06:54:03.313423Z"
    }
   },
   "outputs": [
    {
     "data": {
      "application/vnd.plotly.v1+json": {
       "config": {
        "plotlyServerURL": "https://plot.ly"
       },
       "data": [
        {
         "hovertemplate": "<b>%{hovertext}</b><br><br>Mean HAS Rating=%{x}<br>Mean Wage=%{y}<extra></extra>",
         "hovertext": [
          "Analyzing Data or Information",
          "Updating and Using Relevant Knowledge",
          "Controlling Machines and Processes",
          "Developing Objectives and Strategies",
          "Guiding, Directing, and Motivating Subordinates",
          "Judging the Qualities of Objects, Services, or People",
          "Staffing Organizational Units",
          "Thinking Creatively",
          "Inspecting Equipment, Structures, or Materials",
          "Repairing and Maintaining Mechanical Equipment",
          "Monitoring Processes, Materials, or Surroundings",
          "Providing Consultation and Advice to Others",
          "Making Decisions and Solving Problems",
          "Organizing, Planning, and Prioritizing Work",
          "Communicating with Supervisors, Peers, or Subordinates",
          "Interpreting the Meaning of Information for Others",
          "Documenting/Recording Information",
          "Getting Information",
          "Selling or Influencing Others",
          "Working with Computers",
          "Evaluating Information to Determine Compliance with Standards",
          "Performing Administrative Activities",
          "Establishing and Maintaining Interpersonal Relationships",
          "Processing Information",
          "Training and Teaching Others",
          "Handling and Moving Objects",
          "Communicating with People Outside the Organization",
          "Estimating the Quantifiable Characteristics of Products, Events, or Information",
          "Performing for or Working Directly with the Public",
          "Performing General Physical Activities",
          "Monitoring and Controlling Resources",
          "Assisting and Caring for Others",
          "Scheduling Work and Activities"
         ],
         "legendgroup": "",
         "marker": {
          "color": "#636efa",
          "line": {
           "color": "DarkSlateGrey",
           "width": 1
          },
          "opacity": 0.7,
          "size": 10,
          "symbol": "circle"
         },
         "mode": "markers",
         "name": "",
         "orientation": "v",
         "showlegend": false,
         "type": "scatter",
         "x": {
          "bdata": "iVCEIhShBEB9BPcR3EcKQI3jOI7jOAZAaGlpaWlpCUC30r0BZeIIQDilefEnEghAq6qqqqqqCkBam7VZm7UHQFJeQ3kN5QVAq6qqqqqqAkCqqqqqqqoFQJEkSZIkyQdAv+VbvuXbBUCN4ziO4zgOQHqe53me5wdAVVVVVVWVBkDESd2Xx1YCQG+2Dv1m6wRAVlVVVVXVA0BmNJfRXEYDQAAAAAAAAAJAAAAAAAAA/z8AAAAAAAD4PyxRuxK1KwFAAAAAAAAADUAAAAAAAAAEQFZVVVVV1QFAGYZhGIZhAEAAAAAAAAD/PwAAAAAAAAhAzbUDc+3ABEBJkiRJkiQFQFVVVVVVVf0/",
          "dtype": "f8"
         },
         "xaxis": "x",
         "y": {
          "bdata": "WchCFoIeAEGXlpaW1lb+QAAAAACAA/5AAAAAADCx+kCSJEmSpID6QDmO4zjeNvpAq6qqqmoJ+kDbtm3bllL5QE/sxE6sHvlAAAAAAGC0+ECamZmZ+a74QEMWspB1WPhAG8prKM8/90AAAAAAoP32QAAAAAA0JPZAAAAAAGCp9UBaYXMgYYr1QLKQhSyUEvVAAAAAAODM80B4Nuo7+8DzQAAAAABILvJAAAAAAKAq8kAAAAAAoNrxQEU+6wZTifFAAAAAAPDv8EBVVVVVld/wQAAAAABEYPBAO7ETO7E+7kBu27ZtGwbsQAAAAAAAwupARhdddBER6kAlSZIkCfPpQDmO4zjOQulA",
          "dtype": "f8"
         },
         "yaxis": "y"
        }
       ],
       "layout": {
        "legend": {
         "tracegroupgap": 0
        },
        "template": {
         "data": {
          "bar": [
           {
            "error_x": {
             "color": "#2a3f5f"
            },
            "error_y": {
             "color": "#2a3f5f"
            },
            "marker": {
             "line": {
              "color": "#E5ECF6",
              "width": 0.5
             },
             "pattern": {
              "fillmode": "overlay",
              "size": 10,
              "solidity": 0.2
             }
            },
            "type": "bar"
           }
          ],
          "barpolar": [
           {
            "marker": {
             "line": {
              "color": "#E5ECF6",
              "width": 0.5
             },
             "pattern": {
              "fillmode": "overlay",
              "size": 10,
              "solidity": 0.2
             }
            },
            "type": "barpolar"
           }
          ],
          "carpet": [
           {
            "aaxis": {
             "endlinecolor": "#2a3f5f",
             "gridcolor": "white",
             "linecolor": "white",
             "minorgridcolor": "white",
             "startlinecolor": "#2a3f5f"
            },
            "baxis": {
             "endlinecolor": "#2a3f5f",
             "gridcolor": "white",
             "linecolor": "white",
             "minorgridcolor": "white",
             "startlinecolor": "#2a3f5f"
            },
            "type": "carpet"
           }
          ],
          "choropleth": [
           {
            "colorbar": {
             "outlinewidth": 0,
             "ticks": ""
            },
            "type": "choropleth"
           }
          ],
          "contour": [
           {
            "colorbar": {
             "outlinewidth": 0,
             "ticks": ""
            },
            "colorscale": [
             [
              0,
              "#0d0887"
             ],
             [
              0.1111111111111111,
              "#46039f"
             ],
             [
              0.2222222222222222,
              "#7201a8"
             ],
             [
              0.3333333333333333,
              "#9c179e"
             ],
             [
              0.4444444444444444,
              "#bd3786"
             ],
             [
              0.5555555555555556,
              "#d8576b"
             ],
             [
              0.6666666666666666,
              "#ed7953"
             ],
             [
              0.7777777777777778,
              "#fb9f3a"
             ],
             [
              0.8888888888888888,
              "#fdca26"
             ],
             [
              1,
              "#f0f921"
             ]
            ],
            "type": "contour"
           }
          ],
          "contourcarpet": [
           {
            "colorbar": {
             "outlinewidth": 0,
             "ticks": ""
            },
            "type": "contourcarpet"
           }
          ],
          "heatmap": [
           {
            "colorbar": {
             "outlinewidth": 0,
             "ticks": ""
            },
            "colorscale": [
             [
              0,
              "#0d0887"
             ],
             [
              0.1111111111111111,
              "#46039f"
             ],
             [
              0.2222222222222222,
              "#7201a8"
             ],
             [
              0.3333333333333333,
              "#9c179e"
             ],
             [
              0.4444444444444444,
              "#bd3786"
             ],
             [
              0.5555555555555556,
              "#d8576b"
             ],
             [
              0.6666666666666666,
              "#ed7953"
             ],
             [
              0.7777777777777778,
              "#fb9f3a"
             ],
             [
              0.8888888888888888,
              "#fdca26"
             ],
             [
              1,
              "#f0f921"
             ]
            ],
            "type": "heatmap"
           }
          ],
          "histogram": [
           {
            "marker": {
             "pattern": {
              "fillmode": "overlay",
              "size": 10,
              "solidity": 0.2
             }
            },
            "type": "histogram"
           }
          ],
          "histogram2d": [
           {
            "colorbar": {
             "outlinewidth": 0,
             "ticks": ""
            },
            "colorscale": [
             [
              0,
              "#0d0887"
             ],
             [
              0.1111111111111111,
              "#46039f"
             ],
             [
              0.2222222222222222,
              "#7201a8"
             ],
             [
              0.3333333333333333,
              "#9c179e"
             ],
             [
              0.4444444444444444,
              "#bd3786"
             ],
             [
              0.5555555555555556,
              "#d8576b"
             ],
             [
              0.6666666666666666,
              "#ed7953"
             ],
             [
              0.7777777777777778,
              "#fb9f3a"
             ],
             [
              0.8888888888888888,
              "#fdca26"
             ],
             [
              1,
              "#f0f921"
             ]
            ],
            "type": "histogram2d"
           }
          ],
          "histogram2dcontour": [
           {
            "colorbar": {
             "outlinewidth": 0,
             "ticks": ""
            },
            "colorscale": [
             [
              0,
              "#0d0887"
             ],
             [
              0.1111111111111111,
              "#46039f"
             ],
             [
              0.2222222222222222,
              "#7201a8"
             ],
             [
              0.3333333333333333,
              "#9c179e"
             ],
             [
              0.4444444444444444,
              "#bd3786"
             ],
             [
              0.5555555555555556,
              "#d8576b"
             ],
             [
              0.6666666666666666,
              "#ed7953"
             ],
             [
              0.7777777777777778,
              "#fb9f3a"
             ],
             [
              0.8888888888888888,
              "#fdca26"
             ],
             [
              1,
              "#f0f921"
             ]
            ],
            "type": "histogram2dcontour"
           }
          ],
          "mesh3d": [
           {
            "colorbar": {
             "outlinewidth": 0,
             "ticks": ""
            },
            "type": "mesh3d"
           }
          ],
          "parcoords": [
           {
            "line": {
             "colorbar": {
              "outlinewidth": 0,
              "ticks": ""
             }
            },
            "type": "parcoords"
           }
          ],
          "pie": [
           {
            "automargin": true,
            "type": "pie"
           }
          ],
          "scatter": [
           {
            "fillpattern": {
             "fillmode": "overlay",
             "size": 10,
             "solidity": 0.2
            },
            "type": "scatter"
           }
          ],
          "scatter3d": [
           {
            "line": {
             "colorbar": {
              "outlinewidth": 0,
              "ticks": ""
             }
            },
            "marker": {
             "colorbar": {
              "outlinewidth": 0,
              "ticks": ""
             }
            },
            "type": "scatter3d"
           }
          ],
          "scattercarpet": [
           {
            "marker": {
             "colorbar": {
              "outlinewidth": 0,
              "ticks": ""
             }
            },
            "type": "scattercarpet"
           }
          ],
          "scattergeo": [
           {
            "marker": {
             "colorbar": {
              "outlinewidth": 0,
              "ticks": ""
             }
            },
            "type": "scattergeo"
           }
          ],
          "scattergl": [
           {
            "marker": {
             "colorbar": {
              "outlinewidth": 0,
              "ticks": ""
             }
            },
            "type": "scattergl"
           }
          ],
          "scattermap": [
           {
            "marker": {
             "colorbar": {
              "outlinewidth": 0,
              "ticks": ""
             }
            },
            "type": "scattermap"
           }
          ],
          "scattermapbox": [
           {
            "marker": {
             "colorbar": {
              "outlinewidth": 0,
              "ticks": ""
             }
            },
            "type": "scattermapbox"
           }
          ],
          "scatterpolar": [
           {
            "marker": {
             "colorbar": {
              "outlinewidth": 0,
              "ticks": ""
             }
            },
            "type": "scatterpolar"
           }
          ],
          "scatterpolargl": [
           {
            "marker": {
             "colorbar": {
              "outlinewidth": 0,
              "ticks": ""
             }
            },
            "type": "scatterpolargl"
           }
          ],
          "scatterternary": [
           {
            "marker": {
             "colorbar": {
              "outlinewidth": 0,
              "ticks": ""
             }
            },
            "type": "scatterternary"
           }
          ],
          "surface": [
           {
            "colorbar": {
             "outlinewidth": 0,
             "ticks": ""
            },
            "colorscale": [
             [
              0,
              "#0d0887"
             ],
             [
              0.1111111111111111,
              "#46039f"
             ],
             [
              0.2222222222222222,
              "#7201a8"
             ],
             [
              0.3333333333333333,
              "#9c179e"
             ],
             [
              0.4444444444444444,
              "#bd3786"
             ],
             [
              0.5555555555555556,
              "#d8576b"
             ],
             [
              0.6666666666666666,
              "#ed7953"
             ],
             [
              0.7777777777777778,
              "#fb9f3a"
             ],
             [
              0.8888888888888888,
              "#fdca26"
             ],
             [
              1,
              "#f0f921"
             ]
            ],
            "type": "surface"
           }
          ],
          "table": [
           {
            "cells": {
             "fill": {
              "color": "#EBF0F8"
             },
             "line": {
              "color": "white"
             }
            },
            "header": {
             "fill": {
              "color": "#C8D4E3"
             },
             "line": {
              "color": "white"
             }
            },
            "type": "table"
           }
          ]
         },
         "layout": {
          "annotationdefaults": {
           "arrowcolor": "#2a3f5f",
           "arrowhead": 0,
           "arrowwidth": 1
          },
          "autotypenumbers": "strict",
          "coloraxis": {
           "colorbar": {
            "outlinewidth": 0,
            "ticks": ""
           }
          },
          "colorscale": {
           "diverging": [
            [
             0,
             "#8e0152"
            ],
            [
             0.1,
             "#c51b7d"
            ],
            [
             0.2,
             "#de77ae"
            ],
            [
             0.3,
             "#f1b6da"
            ],
            [
             0.4,
             "#fde0ef"
            ],
            [
             0.5,
             "#f7f7f7"
            ],
            [
             0.6,
             "#e6f5d0"
            ],
            [
             0.7,
             "#b8e186"
            ],
            [
             0.8,
             "#7fbc41"
            ],
            [
             0.9,
             "#4d9221"
            ],
            [
             1,
             "#276419"
            ]
           ],
           "sequential": [
            [
             0,
             "#0d0887"
            ],
            [
             0.1111111111111111,
             "#46039f"
            ],
            [
             0.2222222222222222,
             "#7201a8"
            ],
            [
             0.3333333333333333,
             "#9c179e"
            ],
            [
             0.4444444444444444,
             "#bd3786"
            ],
            [
             0.5555555555555556,
             "#d8576b"
            ],
            [
             0.6666666666666666,
             "#ed7953"
            ],
            [
             0.7777777777777778,
             "#fb9f3a"
            ],
            [
             0.8888888888888888,
             "#fdca26"
            ],
            [
             1,
             "#f0f921"
            ]
           ],
           "sequentialminus": [
            [
             0,
             "#0d0887"
            ],
            [
             0.1111111111111111,
             "#46039f"
            ],
            [
             0.2222222222222222,
             "#7201a8"
            ],
            [
             0.3333333333333333,
             "#9c179e"
            ],
            [
             0.4444444444444444,
             "#bd3786"
            ],
            [
             0.5555555555555556,
             "#d8576b"
            ],
            [
             0.6666666666666666,
             "#ed7953"
            ],
            [
             0.7777777777777778,
             "#fb9f3a"
            ],
            [
             0.8888888888888888,
             "#fdca26"
            ],
            [
             1,
             "#f0f921"
            ]
           ]
          },
          "colorway": [
           "#636efa",
           "#EF553B",
           "#00cc96",
           "#ab63fa",
           "#FFA15A",
           "#19d3f3",
           "#FF6692",
           "#B6E880",
           "#FF97FF",
           "#FECB52"
          ],
          "font": {
           "color": "#2a3f5f"
          },
          "geo": {
           "bgcolor": "white",
           "lakecolor": "white",
           "landcolor": "#E5ECF6",
           "showlakes": true,
           "showland": true,
           "subunitcolor": "white"
          },
          "hoverlabel": {
           "align": "left"
          },
          "hovermode": "closest",
          "mapbox": {
           "style": "light"
          },
          "paper_bgcolor": "white",
          "plot_bgcolor": "#E5ECF6",
          "polar": {
           "angularaxis": {
            "gridcolor": "white",
            "linecolor": "white",
            "ticks": ""
           },
           "bgcolor": "#E5ECF6",
           "radialaxis": {
            "gridcolor": "white",
            "linecolor": "white",
            "ticks": ""
           }
          },
          "scene": {
           "xaxis": {
            "backgroundcolor": "#E5ECF6",
            "gridcolor": "white",
            "gridwidth": 2,
            "linecolor": "white",
            "showbackground": true,
            "ticks": "",
            "zerolinecolor": "white"
           },
           "yaxis": {
            "backgroundcolor": "#E5ECF6",
            "gridcolor": "white",
            "gridwidth": 2,
            "linecolor": "white",
            "showbackground": true,
            "ticks": "",
            "zerolinecolor": "white"
           },
           "zaxis": {
            "backgroundcolor": "#E5ECF6",
            "gridcolor": "white",
            "gridwidth": 2,
            "linecolor": "white",
            "showbackground": true,
            "ticks": "",
            "zerolinecolor": "white"
           }
          },
          "shapedefaults": {
           "line": {
            "color": "#2a3f5f"
           }
          },
          "ternary": {
           "aaxis": {
            "gridcolor": "white",
            "linecolor": "white",
            "ticks": ""
           },
           "baxis": {
            "gridcolor": "white",
            "linecolor": "white",
            "ticks": ""
           },
           "bgcolor": "#E5ECF6",
           "caxis": {
            "gridcolor": "white",
            "linecolor": "white",
            "ticks": ""
           }
          },
          "title": {
           "x": 0.05
          },
          "xaxis": {
           "automargin": true,
           "gridcolor": "white",
           "linecolor": "white",
           "ticks": "",
           "title": {
            "standoff": 15
           },
           "zerolinecolor": "white",
           "zerolinewidth": 2
          },
          "yaxis": {
           "automargin": true,
           "gridcolor": "white",
           "linecolor": "white",
           "ticks": "",
           "title": {
            "standoff": 15
           },
           "zerolinecolor": "white",
           "zerolinewidth": 2
          }
         }
        },
        "title": {
         "text": "Mean HAS vs. Mean Wage (by Skill)"
        },
        "xaxis": {
         "anchor": "y",
         "domain": [
          0,
          1
         ],
         "title": {
          "text": "Mean HAS Rating"
         }
        },
        "yaxis": {
         "anchor": "x",
         "domain": [
          0,
          1
         ],
         "title": {
          "text": "Mean Wage"
         }
        }
       }
      }
     },
     "metadata": {},
     "output_type": "display_data"
    }
   ],
   "source": [
    "import plotly.express as px\n",
    "\n",
    "# Create an interactive scatter plot\n",
    "fig = px.scatter(\n",
    "    skill_info_df,\n",
    "    x=\"mean_has_rating\",\n",
    "    y=\"mean_wage\",\n",
    "    hover_name=\"skill\",\n",
    "    labels={\n",
    "        \"mean_has_rating\": \"Mean HAS Rating\",\n",
    "        \"mean_wage\": \"Mean Wage\"\n",
    "    },\n",
    "    title=\"Mean HAS vs. Mean Wage (by Skill)\"\n",
    ")\n",
    "\n",
    "fig.update_traces(marker=dict(size=10, opacity=0.7, line=dict(width=1, color='DarkSlateGrey')),\n",
    "                  selector=dict(mode=\"markers\"))\n",
    "\n",
    "fig.show()\n"
   ]
  }
 ],
 "metadata": {
  "kernelspec": {
   "display_name": "agent",
   "language": "python",
   "name": "python3"
  },
  "language_info": {
   "codemirror_mode": {
    "name": "ipython",
    "version": 3
   },
   "file_extension": ".py",
   "mimetype": "text/x-python",
   "name": "python",
   "nbconvert_exporter": "python",
   "pygments_lexer": "ipython3",
   "version": "3.11.5"
  }
 },
 "nbformat": 4,
 "nbformat_minor": 5
}
